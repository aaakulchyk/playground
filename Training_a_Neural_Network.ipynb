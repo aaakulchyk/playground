{
  "nbformat": 4,
  "nbformat_minor": 0,
  "metadata": {
    "colab": {
      "name": "Training a Neural Network.ipynb",
      "provenance": [],
      "collapsed_sections": [],
      "include_colab_link": true
    },
    "kernelspec": {
      "name": "python3",
      "display_name": "Python 3"
    }
  },
  "cells": [
    {
      "cell_type": "markdown",
      "metadata": {
        "id": "view-in-github",
        "colab_type": "text"
      },
      "source": [
        "<a href=\"https://colab.research.google.com/github/laneboi/playground/blob/master/Training_a_Neural_Network.ipynb\" target=\"_parent\"><img src=\"https://colab.research.google.com/assets/colab-badge.svg\" alt=\"Open In Colab\"/></a>"
      ]
    },
    {
      "cell_type": "code",
      "metadata": {
        "id": "qjdK2k75MKke",
        "colab_type": "code",
        "outputId": "30ddd23c-ebb7-4b67-de45-8d59fa091fce",
        "colab": {
          "base_uri": "https://localhost:8080/",
          "height": 156
        }
      },
      "source": [
        "from keras import models\n",
        "from keras import layers\n",
        "\n",
        "\n",
        "model = models.Sequential()\n",
        "model.add(layers.Dense(32, input_shape=(784,)))\n",
        "model.add(layers.Dense(32))"
      ],
      "execution_count": 0,
      "outputs": [
        {
          "output_type": "stream",
          "text": [
            "WARNING: Logging before flag parsing goes to stderr.\n",
            "W0630 13:03:35.624303 140316800391040 deprecation_wrapper.py:119] From /usr/local/lib/python3.6/dist-packages/keras/backend/tensorflow_backend.py:74: The name tf.get_default_graph is deprecated. Please use tf.compat.v1.get_default_graph instead.\n",
            "\n",
            "W0630 13:03:35.655764 140316800391040 deprecation_wrapper.py:119] From /usr/local/lib/python3.6/dist-packages/keras/backend/tensorflow_backend.py:517: The name tf.placeholder is deprecated. Please use tf.compat.v1.placeholder instead.\n",
            "\n",
            "W0630 13:03:35.664061 140316800391040 deprecation_wrapper.py:119] From /usr/local/lib/python3.6/dist-packages/keras/backend/tensorflow_backend.py:4138: The name tf.random_uniform is deprecated. Please use tf.random.uniform instead.\n",
            "\n"
          ],
          "name": "stderr"
        }
      ]
    },
    {
      "cell_type": "code",
      "metadata": {
        "id": "9VVmA61FTyOL",
        "colab_type": "code",
        "outputId": "095f99ac-47b0-473f-97d4-5adf71bad7c2",
        "colab": {
          "base_uri": "https://localhost:8080/",
          "height": 34
        }
      },
      "source": [
        "!pip install numpy==1.16.1\n",
        "import numpy as np"
      ],
      "execution_count": 0,
      "outputs": [
        {
          "output_type": "stream",
          "text": [
            "Requirement already satisfied: numpy==1.16.1 in /usr/local/lib/python3.6/dist-packages (1.16.1)\n"
          ],
          "name": "stdout"
        }
      ]
    },
    {
      "cell_type": "code",
      "metadata": {
        "id": "US_khz5gUgXs",
        "colab_type": "code",
        "colab": {}
      },
      "source": [
        "from keras.datasets import imdb\n",
        "\n",
        "\n",
        "(train_data, train_labels), (test_data, test_labels) = imdb.load_data(num_words=10000)\n",
        "word_index = imdb.get_word_index()\n",
        "reverse_word_index = {v: k for k, v in word_index.items()}\n",
        "decoded_review = ' '.join([reverse_word_index.get(i-3, '?') for i in train_data[0]])"
      ],
      "execution_count": 0,
      "outputs": []
    },
    {
      "cell_type": "code",
      "metadata": {
        "id": "IdnzQoHjXBis",
        "colab_type": "code",
        "outputId": "3cee9e1e-7bc5-45bc-f4ea-0c57c309e52b",
        "colab": {
          "base_uri": "https://localhost:8080/",
          "height": 54
        }
      },
      "source": [
        "print(decoded_review)"
      ],
      "execution_count": 0,
      "outputs": [
        {
          "output_type": "stream",
          "text": [
            "? this film was just brilliant casting location scenery story direction everyone's really suited the part they played and you could just imagine being there robert ? is an amazing actor and now the same being director ? father came from the same scottish island as myself so i loved the fact there was a real connection with this film the witty remarks throughout the film were great it was just brilliant so much that i bought the film as soon as it was released for ? and would recommend it to everyone to watch and the fly fishing was amazing really cried at the end it was so sad and you know what they say if you cry at a film it must have been good and this definitely was also ? to the two little boy's that played the ? of norman and paul they were just brilliant children are often left out of the ? list i think because the stars that play them all grown up are such a big profile for the whole film but these children are amazing and should be praised for what they have done don't you think the whole story was so lovely because it was true and was someone's life after all that was shared with us all\n"
          ],
          "name": "stdout"
        }
      ]
    },
    {
      "cell_type": "code",
      "metadata": {
        "id": "yzXE1tmKXtu1",
        "colab_type": "code",
        "colab": {}
      },
      "source": [
        "def vectorize_sequences(sequences, dimensions=10000):\n",
        "    results = np.zeros((len(sequences), dimensions))\n",
        "    for i, sequence in enumerate(sequences):\n",
        "        results[i, sequence] = 1.\n",
        "    return results\n",
        "\n",
        "\n",
        "x_train = vectorize_sequences(train_data)\n",
        "x_test  = vectorize_sequences(test_data)\n",
        "\n",
        "# vectorizing labels\n",
        "y_train = np.asarray(train_labels).astype('float32')\n",
        "y_test  = np.asarray(test_labels).astype('float32')"
      ],
      "execution_count": 0,
      "outputs": []
    },
    {
      "cell_type": "code",
      "metadata": {
        "id": "Sp36ubGcfA2L",
        "colab_type": "code",
        "colab": {}
      },
      "source": [
        "model = models.Sequential()\n",
        "model.add(layers.Dense(16, activation='relu', input_shape=(10000,)))\n",
        "model.add(layers.Dense(16, activation='relu'))\n",
        "model.add(layers.Dense(1, activation='sigmoid'))"
      ],
      "execution_count": 0,
      "outputs": []
    },
    {
      "cell_type": "code",
      "metadata": {
        "id": "MVHlSpj7f7xL",
        "colab_type": "code",
        "colab": {}
      },
      "source": [
        "model.compile(optimizer='rmsprop',\n",
        "              loss='binary_crossentropy',\n",
        "              metrics=['acc'])"
      ],
      "execution_count": 0,
      "outputs": []
    },
    {
      "cell_type": "code",
      "metadata": {
        "id": "sXE0a3cdgIuD",
        "colab_type": "code",
        "colab": {}
      },
      "source": [
        "x_val = x_train[:10000]\n",
        "partial_x_train = x_train[10000:]\n",
        "\n",
        "y_val = y_train[:10000]\n",
        "partial_y_train = y_train[10000:]"
      ],
      "execution_count": 0,
      "outputs": []
    },
    {
      "cell_type": "code",
      "metadata": {
        "id": "JfW-PKlLga6a",
        "colab_type": "code",
        "outputId": "26efd7c1-6ff8-48eb-86dd-4f09716cca5f",
        "colab": {
          "base_uri": "https://localhost:8080/",
          "height": 768
        }
      },
      "source": [
        "history = model.fit(partial_x_train,\n",
        "                    partial_y_train,\n",
        "                    epochs=20,\n",
        "                    batch_size=512,\n",
        "                    validation_data=(x_val, y_val))"
      ],
      "execution_count": 0,
      "outputs": [
        {
          "output_type": "stream",
          "text": [
            "W0630 13:17:14.708647 140316800391040 deprecation_wrapper.py:119] From /usr/local/lib/python3.6/dist-packages/keras/backend/tensorflow_backend.py:986: The name tf.assign_add is deprecated. Please use tf.compat.v1.assign_add instead.\n",
            "\n"
          ],
          "name": "stderr"
        },
        {
          "output_type": "stream",
          "text": [
            "Train on 15000 samples, validate on 10000 samples\n",
            "Epoch 1/20\n",
            "15000/15000 [==============================] - 2s 165us/step - loss: 0.5344 - acc: 0.7755 - val_loss: 0.4001 - val_acc: 0.8677\n",
            "Epoch 2/20\n",
            "15000/15000 [==============================] - 2s 146us/step - loss: 0.3209 - acc: 0.8985 - val_loss: 0.3275 - val_acc: 0.8720\n",
            "Epoch 3/20\n",
            "15000/15000 [==============================] - 2s 145us/step - loss: 0.2349 - acc: 0.9239 - val_loss: 0.2859 - val_acc: 0.8874\n",
            "Epoch 4/20\n",
            "15000/15000 [==============================] - 2s 145us/step - loss: 0.1846 - acc: 0.9399 - val_loss: 0.2742 - val_acc: 0.8901\n",
            "Epoch 5/20\n",
            "15000/15000 [==============================] - 2s 144us/step - loss: 0.1532 - acc: 0.9507 - val_loss: 0.2985 - val_acc: 0.8811\n",
            "Epoch 6/20\n",
            "15000/15000 [==============================] - 2s 146us/step - loss: 0.1243 - acc: 0.9613 - val_loss: 0.2871 - val_acc: 0.8869\n",
            "Epoch 7/20\n",
            "15000/15000 [==============================] - 2s 145us/step - loss: 0.1081 - acc: 0.9662 - val_loss: 0.3035 - val_acc: 0.8833\n",
            "Epoch 8/20\n",
            "15000/15000 [==============================] - 2s 141us/step - loss: 0.0880 - acc: 0.9741 - val_loss: 0.3226 - val_acc: 0.8812\n",
            "Epoch 9/20\n",
            "15000/15000 [==============================] - 2s 141us/step - loss: 0.0717 - acc: 0.9812 - val_loss: 0.3413 - val_acc: 0.8812\n",
            "Epoch 10/20\n",
            "15000/15000 [==============================] - 2s 142us/step - loss: 0.0614 - acc: 0.9847 - val_loss: 0.3848 - val_acc: 0.8754\n",
            "Epoch 11/20\n",
            "15000/15000 [==============================] - 2s 144us/step - loss: 0.0492 - acc: 0.9891 - val_loss: 0.3938 - val_acc: 0.8744\n",
            "Epoch 12/20\n",
            "15000/15000 [==============================] - 2s 145us/step - loss: 0.0403 - acc: 0.9916 - val_loss: 0.4180 - val_acc: 0.8730\n",
            "Epoch 13/20\n",
            "15000/15000 [==============================] - 2s 143us/step - loss: 0.0351 - acc: 0.9929 - val_loss: 0.4554 - val_acc: 0.8746\n",
            "Epoch 14/20\n",
            "15000/15000 [==============================] - 2s 143us/step - loss: 0.0259 - acc: 0.9951 - val_loss: 0.4962 - val_acc: 0.8724\n",
            "Epoch 15/20\n",
            "15000/15000 [==============================] - 2s 161us/step - loss: 0.0203 - acc: 0.9965 - val_loss: 0.5194 - val_acc: 0.8648\n",
            "Epoch 16/20\n",
            "15000/15000 [==============================] - 2s 144us/step - loss: 0.0180 - acc: 0.9967 - val_loss: 0.5389 - val_acc: 0.8682\n",
            "Epoch 17/20\n",
            "15000/15000 [==============================] - 2s 141us/step - loss: 0.0120 - acc: 0.9991 - val_loss: 0.5744 - val_acc: 0.8677\n",
            "Epoch 18/20\n",
            "15000/15000 [==============================] - 2s 142us/step - loss: 0.0113 - acc: 0.9986 - val_loss: 0.6177 - val_acc: 0.8631\n",
            "Epoch 19/20\n",
            "15000/15000 [==============================] - 2s 143us/step - loss: 0.0081 - acc: 0.9994 - val_loss: 0.6349 - val_acc: 0.8659\n",
            "Epoch 20/20\n",
            "15000/15000 [==============================] - 2s 143us/step - loss: 0.0065 - acc: 0.9995 - val_loss: 0.6628 - val_acc: 0.8637\n"
          ],
          "name": "stdout"
        }
      ]
    },
    {
      "cell_type": "code",
      "metadata": {
        "id": "WDb9zYQUiaBz",
        "colab_type": "code",
        "outputId": "96e5512e-09d1-485e-9542-0f7f7c018566",
        "colab": {
          "base_uri": "https://localhost:8080/",
          "height": 295
        }
      },
      "source": [
        "import matplotlib.pyplot as plt\n",
        "\n",
        "\n",
        "history_dict = history.history\n",
        "loss_values = history_dict['loss']\n",
        "val_loss_values = history_dict['val_loss']\n",
        "\n",
        "epochs = range(1, 20 + 1)\n",
        "\n",
        "plt.plot(epochs, loss_values, 'bo', label='Training loss')\n",
        "plt.plot(epochs, val_loss_values, 'b', label='Validation loss')\n",
        "plt.title('Training and validation loss')\n",
        "plt.xlabel('Epochs')\n",
        "plt.ylabel('Loss')\n",
        "plt.legend()\n",
        "\n",
        "plt.show()"
      ],
      "execution_count": 0,
      "outputs": [
        {
          "output_type": "display_data",
          "data": {
            "image/png": "[encoded data removed]",
            "text/plain": [
              "<Figure size 432x288 with 1 Axes>"
            ]
          },
          "metadata": {
            "tags": []
          }
        }
      ]
    },
    {
      "cell_type": "code",
      "metadata": {
        "id": "lcTraQh9jJu8",
        "colab_type": "code",
        "outputId": "05ba17ec-e823-45b7-ada1-3a5a2e8bd765",
        "colab": {
          "base_uri": "https://localhost:8080/",
          "height": 34
        }
      },
      "source": [
        "history.history.keys()"
      ],
      "execution_count": 0,
      "outputs": [
        {
          "output_type": "execute_result",
          "data": {
            "text/plain": [
              "dict_keys(['val_loss', 'val_acc', 'loss', 'acc'])"
            ]
          },
          "metadata": {
            "tags": []
          },
          "execution_count": 25
        }
      ]
    },
    {
      "cell_type": "code",
      "metadata": {
        "id": "wFBBlzEvjBab",
        "colab_type": "code",
        "outputId": "bf52427b-f046-4c3d-e954-3db7e7cb1eb2",
        "colab": {
          "base_uri": "https://localhost:8080/",
          "height": 295
        }
      },
      "source": [
        "acc_values = history_dict['acc']\n",
        "val_acc_values = history_dict['val_acc']\n",
        "\n",
        "plt.plot(epochs, acc_values, 'bo', label='Training acc')\n",
        "plt.plot(epochs, val_acc_values, 'b', label='Validation acc')\n",
        "plt.title('Training and validation accuracy')\n",
        "plt.xlabel('Epochs')\n",
        "plt.ylabel('Accuracy')\n",
        "plt.legend()\n",
        "\n",
        "plt.show()"
      ],
      "execution_count": 0,
      "outputs": [
        {
          "output_type": "display_data",
          "data": {
            "image/png": "[encoded data removed]",
            "text/plain": [
              "<Figure size 432x288 with 1 Axes>"
            ]
          },
          "metadata": {
            "tags": []
          }
        }
      ]
    },
    {
      "cell_type": "markdown",
      "metadata": {
        "id": "hBGt20Oaj2Cl",
        "colab_type": "text"
      },
      "source": [
        "# Excercises"
      ]
    },
    {
      "cell_type": "markdown",
      "metadata": {
        "id": "oYreEeL_j5Sk",
        "colab_type": "text"
      },
      "source": [
        "## 1"
      ]
    },
    {
      "cell_type": "code",
      "metadata": {
        "id": "TmVdD7pFj00N",
        "colab_type": "code",
        "outputId": "f10e0a31-556d-4f51-ead1-ccdc12bb2694",
        "colab": {
          "base_uri": "https://localhost:8080/",
          "height": 187
        }
      },
      "source": [
        "model_with_one_layer = models.Sequential()\n",
        "\n",
        "model_with_one_layer.add(layers.Dense(16, activation='relu', input_shape=(10000,)))\n",
        "model_with_one_layer.add(layers.Dense(1, activation='sigmoid'))\n",
        "\n",
        "model_with_one_layer.compile(optimizer='rmsprop',\n",
        "                             loss='binary_crossentropy',\n",
        "                             metrics=['accuracy'])\n",
        "\n",
        "model_with_one_layer.fit(x_train, y_train, epochs=4, batch_size=512)\n",
        "\n",
        "results = model_with_one_layer.evaluate(x_test, y_test)\n",
        "print(results)"
      ],
      "execution_count": 0,
      "outputs": [
        {
          "output_type": "stream",
          "text": [
            "Epoch 1/4\n",
            "25000/25000 [==============================] - 3s 114us/step - loss: 0.4403 - acc: 0.8316\n",
            "Epoch 2/4\n",
            "25000/25000 [==============================] - 3s 100us/step - loss: 0.2735 - acc: 0.9083\n",
            "Epoch 3/4\n",
            "25000/25000 [==============================] - 2s 99us/step - loss: 0.2164 - acc: 0.9265\n",
            "Epoch 4/4\n",
            "25000/25000 [==============================] - 2s 99us/step - loss: 0.1849 - acc: 0.9384\n",
            "25000/25000 [==============================] - 2s 82us/step\n",
            "[0.2790045209598541, 0.88836]\n"
          ],
          "name": "stdout"
        }
      ]
    },
    {
      "cell_type": "code",
      "metadata": {
        "id": "5b-9ntZRl9LF",
        "colab_type": "code",
        "outputId": "8407c411-e998-44fe-8eed-b35429f44d38",
        "colab": {
          "base_uri": "https://localhost:8080/",
          "height": 136
        }
      },
      "source": [
        "model_with_one_layer.predict(x_test)"
      ],
      "execution_count": 0,
      "outputs": [
        {
          "output_type": "execute_result",
          "data": {
            "text/plain": [
              "array([[0.25812835],\n",
              "       [0.9997951 ],\n",
              "       [0.8553027 ],\n",
              "       ...,\n",
              "       [0.1291376 ],\n",
              "       [0.10113817],\n",
              "       [0.5642468 ]], dtype=float32)"
            ]
          },
          "metadata": {
            "tags": []
          },
          "execution_count": 36
        }
      ]
    },
    {
      "cell_type": "code",
      "metadata": {
        "id": "GJ_om32WlA_F",
        "colab_type": "code",
        "outputId": "bfc832ea-5e2a-4042-9e3d-7bc18e120989",
        "colab": {
          "base_uri": "https://localhost:8080/",
          "height": 187
        }
      },
      "source": [
        "model_with_three_layers = models.Sequential()\n",
        "\n",
        "model_with_three_layers.add(layers.Dense(16, activation='relu', input_shape=(10000,)))\n",
        "model_with_three_layers.add(layers.Dense(16, activation='relu'))\n",
        "model_with_three_layers.add(layers.Dense(16, activation='relu'))\n",
        "model_with_three_layers.add(layers.Dense(1, activation='sigmoid'))\n",
        "\n",
        "model_with_three_layers.compile(optimizer='rmsprop',\n",
        "                                loss='binary_crossentropy',\n",
        "                                metrics=['accuracy'])\n",
        "\n",
        "model_with_three_layers.fit(x_train, y_train, epochs=4, batch_size=512)\n",
        "\n",
        "results = model_with_three_layers.evaluate(x_test, y_test)\n",
        "print(results)"
      ],
      "execution_count": 0,
      "outputs": [
        {
          "output_type": "stream",
          "text": [
            "Epoch 1/4\n",
            "25000/25000 [==============================] - 3s 120us/step - loss: 0.4409 - acc: 0.8211\n",
            "Epoch 2/4\n",
            "25000/25000 [==============================] - 2s 100us/step - loss: 0.2513 - acc: 0.9095\n",
            "Epoch 3/4\n",
            "25000/25000 [==============================] - 2s 100us/step - loss: 0.1939 - acc: 0.9279\n",
            "Epoch 4/4\n",
            "25000/25000 [==============================] - 2s 99us/step - loss: 0.1593 - acc: 0.9427\n",
            "25000/25000 [==============================] - 2s 87us/step\n",
            "[0.32459619216918945, 0.87732]\n"
          ],
          "name": "stdout"
        }
      ]
    },
    {
      "cell_type": "code",
      "metadata": {
        "id": "T85h-BAMmV1E",
        "colab_type": "code",
        "outputId": "f3e5a049-b449-4c0c-b537-d18b8414d603",
        "colab": {
          "base_uri": "https://localhost:8080/",
          "height": 136
        }
      },
      "source": [
        "model_with_three_layers.predict(x_test)"
      ],
      "execution_count": 0,
      "outputs": [
        {
          "output_type": "execute_result",
          "data": {
            "text/plain": [
              "array([[0.09695905],\n",
              "       [0.9998543 ],\n",
              "       [0.4217045 ],\n",
              "       ...,\n",
              "       [0.08997715],\n",
              "       [0.05209044],\n",
              "       [0.326576  ]], dtype=float32)"
            ]
          },
          "metadata": {
            "tags": []
          },
          "execution_count": 39
        }
      ]
    },
    {
      "cell_type": "markdown",
      "metadata": {
        "id": "EjPoyYLcmgmI",
        "colab_type": "text"
      },
      "source": [
        "## 2"
      ]
    },
    {
      "cell_type": "code",
      "metadata": {
        "id": "HYfj86qDmhK0",
        "colab_type": "code",
        "outputId": "5c24b30a-4ab0-420a-b3d4-65e4bb729d11",
        "colab": {
          "base_uri": "https://localhost:8080/",
          "height": 187
        }
      },
      "source": [
        "# Model with 32 hidden inputs per layer.\n",
        "model = models.Sequential()\n",
        "\n",
        "model.add(layers.Dense(32, activation='relu', input_shape=(10000,)))\n",
        "model.add(layers.Dense(32, activation='relu'))\n",
        "model.add(layers.Dense(1, activation='sigmoid'))\n",
        "\n",
        "model.compile(optimizer='rmsprop',\n",
        "              loss='binary_crossentropy',\n",
        "              metrics=['accuracy'])\n",
        "\n",
        "model.fit(x_train, y_train, epochs=4, batch_size=512)\n",
        "\n",
        "results = model.evaluate(x_test, y_test)\n",
        "print(results)"
      ],
      "execution_count": 0,
      "outputs": [
        {
          "output_type": "stream",
          "text": [
            "Epoch 1/4\n",
            "25000/25000 [==============================] - 3s 133us/step - loss: 0.4305 - acc: 0.8287\n",
            "Epoch 2/4\n",
            "25000/25000 [==============================] - 3s 112us/step - loss: 0.2425 - acc: 0.9122\n",
            "Epoch 3/4\n",
            "25000/25000 [==============================] - 3s 112us/step - loss: 0.1886 - acc: 0.9317\n",
            "Epoch 4/4\n",
            "25000/25000 [==============================] - 3s 112us/step - loss: 0.1578 - acc: 0.9425\n",
            "25000/25000 [==============================] - 2s 95us/step\n",
            "[0.30978419454574585, 0.8804]\n"
          ],
          "name": "stdout"
        }
      ]
    },
    {
      "cell_type": "code",
      "metadata": {
        "id": "SS1KrzLFm3B1",
        "colab_type": "code",
        "outputId": "c86f17bf-95a8-44ea-e7fa-45ad022d82b7",
        "colab": {
          "base_uri": "https://localhost:8080/",
          "height": 187
        }
      },
      "source": [
        "# Model with 64 hidden inputs per layer.\n",
        "model = models.Sequential()\n",
        "\n",
        "model.add(layers.Dense(64, activation='relu', input_shape=(10000,)))\n",
        "model.add(layers.Dense(64, activation='relu'))\n",
        "model.add(layers.Dense(1, activation='sigmoid'))\n",
        "\n",
        "model.compile(optimizer='rmsprop',\n",
        "              loss='binary_crossentropy',\n",
        "              metrics=['accuracy'])\n",
        "\n",
        "model.fit(x_train, y_train, epochs=4, batch_size=512)\n",
        "\n",
        "results = model.evaluate(x_test, y_test)\n",
        "print(results)"
      ],
      "execution_count": 0,
      "outputs": [
        {
          "output_type": "stream",
          "text": [
            "Epoch 1/4\n",
            "25000/25000 [==============================] - 4s 162us/step - loss: 0.4274 - acc: 0.8104\n",
            "Epoch 2/4\n",
            "25000/25000 [==============================] - 3s 139us/step - loss: 0.2386 - acc: 0.9073\n",
            "Epoch 3/4\n",
            "25000/25000 [==============================] - 3s 138us/step - loss: 0.1822 - acc: 0.9309\n",
            "Epoch 4/4\n",
            "25000/25000 [==============================] - 3s 137us/step - loss: 0.1500 - acc: 0.9429\n",
            "25000/25000 [==============================] - 3s 117us/step\n",
            "[0.34563850208759306, 0.87004]\n"
          ],
          "name": "stdout"
        }
      ]
    },
    {
      "cell_type": "markdown",
      "metadata": {
        "id": "CQcxwmUpnBie",
        "colab_type": "text"
      },
      "source": [
        "## 3"
      ]
    },
    {
      "cell_type": "code",
      "metadata": {
        "id": "VCaZvwTknBD1",
        "colab_type": "code",
        "outputId": "0b21cbba-3393-4024-86a9-6c6975fcd57e",
        "colab": {
          "base_uri": "https://localhost:8080/",
          "height": 187
        }
      },
      "source": [
        "# Model using mse.\n",
        "model = models.Sequential()\n",
        "\n",
        "model.add(layers.Dense(16, activation='relu', input_shape=(10000,)))\n",
        "model.add(layers.Dense(16, activation='relu'))\n",
        "model.add(layers.Dense(1, activation='sigmoid'))\n",
        "\n",
        "model.compile(optimizer='rmsprop',\n",
        "              loss='mse',\n",
        "              metrics=['accuracy'])\n",
        "\n",
        "model.fit(x_train, y_train, epochs=4, batch_size=512)\n",
        "\n",
        "results = model.evaluate(x_test, y_test)\n",
        "print(results)"
      ],
      "execution_count": 0,
      "outputs": [
        {
          "output_type": "stream",
          "text": [
            "Epoch 1/4\n",
            "25000/25000 [==============================] - 3s 129us/step - loss: 0.1459 - acc: 0.8245\n",
            "Epoch 2/4\n",
            "25000/25000 [==============================] - 3s 101us/step - loss: 0.0772 - acc: 0.9113\n",
            "Epoch 3/4\n",
            "25000/25000 [==============================] - 3s 101us/step - loss: 0.0582 - acc: 0.9310\n",
            "Epoch 4/4\n",
            "25000/25000 [==============================] - 2s 100us/step - loss: 0.0487 - acc: 0.9433\n",
            "25000/25000 [==============================] - 2s 97us/step\n",
            "[0.0873935867702961, 0.88096]\n"
          ],
          "name": "stdout"
        }
      ]
    },
    {
      "cell_type": "code",
      "metadata": {
        "id": "bLr59qkTnN0l",
        "colab_type": "code",
        "outputId": "e27fac10-24ed-4d5b-9a54-58525017179c",
        "colab": {
          "base_uri": "https://localhost:8080/",
          "height": 187
        }
      },
      "source": [
        "# Model using tanh.\n",
        "model = models.Sequential()\n",
        "\n",
        "model.add(layers.Dense(16, activation='tanh', input_shape=(10000,)))\n",
        "model.add(layers.Dense(16, activation='tanh'))\n",
        "model.add(layers.Dense(1, activation='sigmoid'))\n",
        "\n",
        "model.compile(optimizer='rmsprop',\n",
        "              loss='binary_crossentropy',\n",
        "              metrics=['accuracy'])\n",
        "\n",
        "model.fit(x_train, y_train, epochs=4, batch_size=512)\n",
        "\n",
        "results = model.evaluate(x_test, y_test)\n",
        "print(results)"
      ],
      "execution_count": 0,
      "outputs": [
        {
          "output_type": "stream",
          "text": [
            "Epoch 1/4\n",
            "25000/25000 [==============================] - 3s 126us/step - loss: 0.4170 - acc: 0.8273\n",
            "Epoch 2/4\n",
            "25000/25000 [==============================] - 3s 105us/step - loss: 0.2347 - acc: 0.9140\n",
            "Epoch 3/4\n",
            "25000/25000 [==============================] - 3s 100us/step - loss: 0.1761 - acc: 0.9360\n",
            "Epoch 4/4\n",
            "25000/25000 [==============================] - 2s 99us/step - loss: 0.1524 - acc: 0.9455\n",
            "25000/25000 [==============================] - 2s 98us/step\n",
            "[0.3452320263004303, 0.87124]\n"
          ],
          "name": "stdout"
        }
      ]
    },
    {
      "cell_type": "markdown",
      "metadata": {
        "id": "8JeQ3mBooJxo",
        "colab_type": "text"
      },
      "source": [
        "# Reuters"
      ]
    },
    {
      "cell_type": "code",
      "metadata": {
        "id": "Yc2k4BgToK-1",
        "colab_type": "code",
        "outputId": "749c11c7-23e6-48ac-aa9a-14ce49a5d0aa",
        "colab": {
          "base_uri": "https://localhost:8080/",
          "height": 85
        }
      },
      "source": [
        "from keras.datasets import reuters\n",
        "\n",
        "\n",
        "(train_data, train_labels), (test_data, test_labels) = reuters.load_data(num_words=10000)\n",
        "\n",
        "print(len(train_data))\n",
        "print(len(test_data))"
      ],
      "execution_count": 0,
      "outputs": [
        {
          "output_type": "stream",
          "text": [
            "Downloading data from https://s3.amazonaws.com/text-datasets/reuters.npz\n",
            "2113536/2110848 [==============================] - 0s 0us/step\n",
            "8982\n",
            "2246\n"
          ],
          "name": "stdout"
        }
      ]
    },
    {
      "cell_type": "code",
      "metadata": {
        "id": "NZSgkhOsoer9",
        "colab_type": "code",
        "colab": {}
      },
      "source": [
        "def vectorize_sequences(sequences, dimension=10000):\n",
        "    results = np.zeros((len(sequences), dimension))\n",
        "    for i, sequence in enumerate(sequences):\n",
        "        results[i, sequence] = 1.\n",
        "    return results\n",
        "\n",
        "\n",
        "x_train = vectorize_sequences(train_data)\n",
        "x_test = vectorize_sequences(test_data)"
      ],
      "execution_count": 0,
      "outputs": []
    },
    {
      "cell_type": "code",
      "metadata": {
        "id": "2zlvcbyho7hd",
        "colab_type": "code",
        "colab": {}
      },
      "source": [
        "def to_one_hot(labels, dimension=46):\n",
        "    results = np.zeros((len(labels), dimension))\n",
        "    for i, label in enumerate(labels):\n",
        "        results[i, label] = 1.\n",
        "    return results\n",
        "\n",
        "\n",
        "one_hot_train_labels = to_one_hot(train_labels)\n",
        "one_hot_test_labels = to_one_hot(test_labels)"
      ],
      "execution_count": 0,
      "outputs": []
    },
    {
      "cell_type": "code",
      "metadata": {
        "id": "02AnRIplpkSl",
        "colab_type": "code",
        "colab": {}
      },
      "source": [
        "from keras import models\n",
        "from keras import layers\n",
        "\n",
        "\n",
        "model = models.Sequential()\n",
        "model.add(layers.Dense(64, activation='relu', input_shape=(10000,)))\n",
        "model.add(layers.Dense(64, activation='relu'))\n",
        "model.add(layers.Dense(46, activation='softmax'))"
      ],
      "execution_count": 0,
      "outputs": []
    },
    {
      "cell_type": "code",
      "metadata": {
        "id": "cmg6XSe_qRu1",
        "colab_type": "code",
        "colab": {}
      },
      "source": [
        "model.compile(optimizer='rmsprop',\n",
        "              loss='categorical_crossentropy',\n",
        "              metrics=['accuracy'])"
      ],
      "execution_count": 0,
      "outputs": []
    },
    {
      "cell_type": "code",
      "metadata": {
        "id": "fsZh_r6tptXu",
        "colab_type": "code",
        "colab": {}
      },
      "source": [
        "x_val = x_train[:1000]\n",
        "partial_x_train = x_train[1000:]\n",
        "\n",
        "y_val = one_hot_train_labels[:1000]\n",
        "partial_y_train = one_hot_train_labels[1000:]"
      ],
      "execution_count": 0,
      "outputs": []
    },
    {
      "cell_type": "code",
      "metadata": {
        "id": "ckNyGuTcqKrY",
        "colab_type": "code",
        "outputId": "3d3518eb-8d15-4d0b-d38e-5c62df08b784",
        "colab": {
          "base_uri": "https://localhost:8080/",
          "height": 714
        }
      },
      "source": [
        "history = model.fit(partial_x_train,\n",
        "                    partial_y_train,\n",
        "                    epochs=20,\n",
        "                    batch_size=512,\n",
        "                    validation_data=(x_val, y_val))"
      ],
      "execution_count": 0,
      "outputs": [
        {
          "output_type": "stream",
          "text": [
            "Train on 7982 samples, validate on 1000 samples\n",
            "Epoch 1/20\n",
            "7982/7982 [==============================] - 2s 260us/step - loss: 2.5322 - acc: 0.4955 - val_loss: 1.7208 - val_acc: 0.6120\n",
            "Epoch 2/20\n",
            "7982/7982 [==============================] - 1s 140us/step - loss: 1.4452 - acc: 0.6879 - val_loss: 1.3459 - val_acc: 0.7060\n",
            "Epoch 3/20\n",
            "7982/7982 [==============================] - 1s 141us/step - loss: 1.0953 - acc: 0.7651 - val_loss: 1.1708 - val_acc: 0.7430\n",
            "Epoch 4/20\n",
            "7982/7982 [==============================] - 1s 142us/step - loss: 0.8697 - acc: 0.8165 - val_loss: 1.0793 - val_acc: 0.7590\n",
            "Epoch 5/20\n",
            "7982/7982 [==============================] - 1s 140us/step - loss: 0.7034 - acc: 0.8472 - val_loss: 0.9844 - val_acc: 0.7810\n",
            "Epoch 6/20\n",
            "7982/7982 [==============================] - 1s 138us/step - loss: 0.5667 - acc: 0.8802 - val_loss: 0.9411 - val_acc: 0.8040\n",
            "Epoch 7/20\n",
            "7982/7982 [==============================] - 1s 139us/step - loss: 0.4581 - acc: 0.9048 - val_loss: 0.9083 - val_acc: 0.8020\n",
            "Epoch 8/20\n",
            "7982/7982 [==============================] - 1s 140us/step - loss: 0.3695 - acc: 0.9231 - val_loss: 0.9363 - val_acc: 0.7890\n",
            "Epoch 9/20\n",
            "7982/7982 [==============================] - 1s 137us/step - loss: 0.3032 - acc: 0.9315 - val_loss: 0.8917 - val_acc: 0.8090\n",
            "Epoch 10/20\n",
            "7982/7982 [==============================] - 1s 140us/step - loss: 0.2537 - acc: 0.9414 - val_loss: 0.9071 - val_acc: 0.8110\n",
            "Epoch 11/20\n",
            "7982/7982 [==============================] - 1s 139us/step - loss: 0.2187 - acc: 0.9471 - val_loss: 0.9177 - val_acc: 0.8130\n",
            "Epoch 12/20\n",
            "7982/7982 [==============================] - 1s 138us/step - loss: 0.1873 - acc: 0.9508 - val_loss: 0.9027 - val_acc: 0.8130\n",
            "Epoch 13/20\n",
            "7982/7982 [==============================] - 1s 139us/step - loss: 0.1703 - acc: 0.9521 - val_loss: 0.9323 - val_acc: 0.8110\n",
            "Epoch 14/20\n",
            "7982/7982 [==============================] - 1s 139us/step - loss: 0.1536 - acc: 0.9554 - val_loss: 0.9689 - val_acc: 0.8050\n",
            "Epoch 15/20\n",
            "7982/7982 [==============================] - 1s 140us/step - loss: 0.1390 - acc: 0.9560 - val_loss: 0.9686 - val_acc: 0.8150\n",
            "Epoch 16/20\n",
            "7982/7982 [==============================] - 1s 140us/step - loss: 0.1313 - acc: 0.9562 - val_loss: 1.0218 - val_acc: 0.8060\n",
            "Epoch 17/20\n",
            "7982/7982 [==============================] - 1s 142us/step - loss: 0.1217 - acc: 0.9579 - val_loss: 1.0255 - val_acc: 0.7970\n",
            "Epoch 18/20\n",
            "7982/7982 [==============================] - 1s 141us/step - loss: 0.1198 - acc: 0.9582 - val_loss: 1.0428 - val_acc: 0.8060\n",
            "Epoch 19/20\n",
            "7982/7982 [==============================] - 1s 140us/step - loss: 0.1138 - acc: 0.9597 - val_loss: 1.0957 - val_acc: 0.7970\n",
            "Epoch 20/20\n",
            "7982/7982 [==============================] - 1s 140us/step - loss: 0.1111 - acc: 0.9593 - val_loss: 1.0679 - val_acc: 0.7990\n"
          ],
          "name": "stdout"
        }
      ]
    },
    {
      "cell_type": "code",
      "metadata": {
        "id": "tSzWfOnhrZ62",
        "colab_type": "code",
        "outputId": "3c74a5f1-cadf-41c3-c734-5ec44c43757f",
        "colab": {
          "base_uri": "https://localhost:8080/",
          "height": 295
        }
      },
      "source": [
        "import matplotlib.pyplot as plt\n",
        "\n",
        "\n",
        "loss = history.history['loss']\n",
        "val_loss = history.history['val_loss']\n",
        "\n",
        "epochs = range(1, len(loss) + 1)\n",
        "\n",
        "plt.plot(epochs, loss, 'bo', label='Training loss')\n",
        "plt.plot(epochs, val_loss, 'b', label='Validation loss')\n",
        "plt.title('Training and validation loss')\n",
        "plt.xlabel('Epochs')\n",
        "plt.ylabel('Loss')\n",
        "plt.legend()\n",
        "\n",
        "plt.show()"
      ],
      "execution_count": 0,
      "outputs": [
        {
          "output_type": "display_data",
          "data": {
            "image/png": "[encoded data removed]",
            "text/plain": [
              "<Figure size 432x288 with 1 Axes>"
            ]
          },
          "metadata": {
            "tags": []
          }
        }
      ]
    },
    {
      "cell_type": "code",
      "metadata": {
        "id": "BGFnG10TrjMF",
        "colab_type": "code",
        "outputId": "8cb13696-7ad4-44e8-9a35-d9a0e2470a17",
        "colab": {
          "base_uri": "https://localhost:8080/",
          "height": 295
        }
      },
      "source": [
        "acc = history.history['acc']\n",
        "\n",
        "val_acc = history.history['val_acc']\n",
        "plt.plot(epochs, acc, 'bo', label='Training acc')\n",
        "\n",
        "plt.plot(epochs, val_acc, 'b', label='Validation acc')\n",
        "plt.title('Training and validation accuracy')\n",
        "plt.xlabel('Epochs')\n",
        "plt.ylabel('Accuracy')\n",
        "plt.legend()\n",
        "\n",
        "plt.show()"
      ],
      "execution_count": 0,
      "outputs": [
        {
          "output_type": "display_data",
          "data": {
            "image/png": "[encoded data removed]",
            "text/plain": [
              "<Figure size 432x288 with 1 Axes>"
            ]
          },
          "metadata": {
            "tags": []
          }
        }
      ]
    },
    {
      "cell_type": "code",
      "metadata": {
        "id": "MIq_xnoWrt6H",
        "colab_type": "code",
        "outputId": "4463fa42-d1c7-475f-ba8e-c06e9961c945",
        "colab": {
          "base_uri": "https://localhost:8080/",
          "height": 357
        }
      },
      "source": [
        "model = models.Sequential()\n",
        "model.add(layers.Dense(64, activation='relu', input_shape=(10000,)))\n",
        "model.add(layers.Dense(64, activation='relu'))\n",
        "model.add(layers.Dense(46, activation='softmax'))\n",
        "\n",
        "model.compile(optimizer='rmsprop',\n",
        "              loss='categorical_crossentropy',\n",
        "              metrics=['accuracy'])\n",
        "\n",
        "model.fit(partial_x_train,\n",
        "          partial_y_train,\n",
        "          epochs=9,\n",
        "          batch_size=512,\n",
        "          validation_data=(x_val, y_val))\n",
        "\n",
        "results = model.evaluate(x_test, one_hot_test_labels)"
      ],
      "execution_count": 0,
      "outputs": [
        {
          "output_type": "stream",
          "text": [
            "Train on 7982 samples, validate on 1000 samples\n",
            "Epoch 1/9\n",
            "7982/7982 [==============================] - 2s 265us/step - loss: 2.5398 - acc: 0.5226 - val_loss: 1.6733 - val_acc: 0.6570\n",
            "Epoch 2/9\n",
            "7982/7982 [==============================] - 1s 144us/step - loss: 1.3712 - acc: 0.7121 - val_loss: 1.2758 - val_acc: 0.7210\n",
            "Epoch 3/9\n",
            "7982/7982 [==============================] - 1s 138us/step - loss: 1.0136 - acc: 0.7781 - val_loss: 1.1303 - val_acc: 0.7530\n",
            "Epoch 4/9\n",
            "7982/7982 [==============================] - 1s 141us/step - loss: 0.7976 - acc: 0.8251 - val_loss: 1.0539 - val_acc: 0.7590\n",
            "Epoch 5/9\n",
            "7982/7982 [==============================] - 1s 140us/step - loss: 0.6393 - acc: 0.8624 - val_loss: 0.9754 - val_acc: 0.7920\n",
            "Epoch 6/9\n",
            "7982/7982 [==============================] - 1s 139us/step - loss: 0.5124 - acc: 0.8921 - val_loss: 0.9102 - val_acc: 0.8140\n",
            "Epoch 7/9\n",
            "7982/7982 [==============================] - 1s 139us/step - loss: 0.4124 - acc: 0.9137 - val_loss: 0.8932 - val_acc: 0.8210\n",
            "Epoch 8/9\n",
            "7982/7982 [==============================] - 1s 143us/step - loss: 0.3355 - acc: 0.9290 - val_loss: 0.8732 - val_acc: 0.8260\n",
            "Epoch 9/9\n",
            "7982/7982 [==============================] - 1s 139us/step - loss: 0.2782 - acc: 0.9371 - val_loss: 0.9338 - val_acc: 0.8000\n",
            "2246/2246 [==============================] - 0s 115us/step\n"
          ],
          "name": "stdout"
        }
      ]
    },
    {
      "cell_type": "code",
      "metadata": {
        "id": "jX5_LMXJsKVX",
        "colab_type": "code",
        "outputId": "346a6d61-9f7e-43b9-e2d6-95dbde7d2b91",
        "colab": {
          "base_uri": "https://localhost:8080/",
          "height": 34
        }
      },
      "source": [
        "print(results)"
      ],
      "execution_count": 0,
      "outputs": [
        {
          "output_type": "stream",
          "text": [
            "[1.0224983157160445, 0.7756010686194165]\n"
          ],
          "name": "stdout"
        }
      ]
    },
    {
      "cell_type": "code",
      "metadata": {
        "id": "Rg6YVt9-saUm",
        "colab_type": "code",
        "outputId": "b209eded-9da9-4498-9e03-04ebffca29ee",
        "colab": {
          "base_uri": "https://localhost:8080/",
          "height": 34
        }
      },
      "source": [
        "import copy\n",
        "\n",
        "\n",
        "test_labels_copy = copy.copy(test_labels)\n",
        "np.random.shuffle(test_labels_copy)\n",
        "hits_array = np.array(test_labels) == np.array(test_labels_copy)\n",
        "float(np.sum(hits_array)) / len(test_labels)"
      ],
      "execution_count": 0,
      "outputs": [
        {
          "output_type": "execute_result",
          "data": {
            "text/plain": [
              "0.182546749777382"
            ]
          },
          "metadata": {
            "tags": []
          },
          "execution_count": 57
        }
      ]
    },
    {
      "cell_type": "code",
      "metadata": {
        "id": "rkDwCoR2sjU-",
        "colab_type": "code",
        "colab": {}
      },
      "source": [
        "predictions = model.predict(x_test)"
      ],
      "execution_count": 0,
      "outputs": []
    },
    {
      "cell_type": "code",
      "metadata": {
        "id": "6XkzLzWWsmru",
        "colab_type": "code",
        "outputId": "0559fb49-0ef8-4ac5-99b9-ab93e6fa6f7f",
        "colab": {
          "base_uri": "https://localhost:8080/",
          "height": 34
        }
      },
      "source": [
        "np.argmax(predictions[0])"
      ],
      "execution_count": 0,
      "outputs": [
        {
          "output_type": "execute_result",
          "data": {
            "text/plain": [
              "3"
            ]
          },
          "metadata": {
            "tags": []
          },
          "execution_count": 59
        }
      ]
    },
    {
      "cell_type": "markdown",
      "metadata": {
        "id": "8sMvK-D9tQuW",
        "colab_type": "text"
      },
      "source": [
        "# Regression"
      ]
    },
    {
      "cell_type": "code",
      "metadata": {
        "id": "f_BKkvc6tSS_",
        "colab_type": "code",
        "outputId": "e382ad44-f9be-4c16-f664-7ae56c6d879c",
        "colab": {
          "base_uri": "https://localhost:8080/",
          "height": 51
        }
      },
      "source": [
        "from keras.datasets import boston_housing\n",
        "\n",
        "\n",
        "(train_data, train_targets), (test_data, test_targets) = boston_housing.load_data()"
      ],
      "execution_count": 0,
      "outputs": [
        {
          "output_type": "stream",
          "text": [
            "Downloading data from https://s3.amazonaws.com/keras-datasets/boston_housing.npz\n",
            "57344/57026 [==============================] - 0s 1us/step\n"
          ],
          "name": "stdout"
        }
      ]
    },
    {
      "cell_type": "code",
      "metadata": {
        "id": "qsru5wdcusPt",
        "colab_type": "code",
        "colab": {}
      },
      "source": [
        "mean = train_data.mean(axis=0)\n",
        "train_data -= mean\n",
        "std = train_data.std(axis=0)\n",
        "train_data /= std\n",
        "\n",
        "test_data -= mean\n",
        "test_data /= std"
      ],
      "execution_count": 0,
      "outputs": []
    },
    {
      "cell_type": "code",
      "metadata": {
        "id": "GPQ3hhAJwGzB",
        "colab_type": "code",
        "colab": {}
      },
      "source": [
        "from keras import models\n",
        "from keras import layers\n",
        "\n",
        "\n",
        "def build_model():\n",
        "    model = models.Sequential()\n",
        "    model.add(layers.Dense(64, activation='relu',\n",
        "                           input_shape=(train_data.shape[1],)))\n",
        "    model.add(layers.Dense(64, activation='relu'))\n",
        "    model.add(layers.Dense(1))\n",
        "    model.compile(optimizer='rmsprop', loss='mse', metrics=['mae'])\n",
        "    return model"
      ],
      "execution_count": 0,
      "outputs": []
    },
    {
      "cell_type": "code",
      "metadata": {
        "id": "RMuldfv42MD3",
        "colab_type": "code",
        "outputId": "baeadcc3-5f35-47fa-8296-e971054e812b",
        "colab": {
          "base_uri": "https://localhost:8080/",
          "height": 85
        }
      },
      "source": [
        "k = 4\n",
        "num_val_samples = len(train_data) // k\n",
        "num_epochs = 100\n",
        "all_scores = []\n",
        "\n",
        "for i in range(k):\n",
        "    print(f'Validation fold #{i+1}')\n",
        "    val_data = train_data[i*num_val_samples:(i+1)*num_val_samples]\n",
        "    val_targets = train_targets[i*num_val_samples:(i+1)*num_val_samples]\n",
        "    \n",
        "    partial_train_data = np.concatenate(\n",
        "                            [train_data[:i * num_val_samples],\n",
        "                             train_data[(i + 1) * num_val_samples:]], axis=0)\n",
        "    partial_train_targets = np.concatenate(\n",
        "                            [train_targets[:i * num_val_samples],\n",
        "                             train_targets[(i + 1) * num_val_samples:]], axis=0)\n",
        "    model = build_model()\n",
        "    model.fit(partial_train_data, partial_train_targets,\n",
        "              epochs=num_epochs, batch_size=1, verbose=0)\n",
        "    val_mse, val_mae = model.evaluate(val_data, val_targets, verbose=0)\n",
        "    all_scores.append(val_mae)"
      ],
      "execution_count": 0,
      "outputs": [
        {
          "output_type": "stream",
          "text": [
            "Validation fold #1\n",
            "Validation fold #2\n",
            "Validation fold #3\n",
            "Validation fold #4\n"
          ],
          "name": "stdout"
        }
      ]
    },
    {
      "cell_type": "code",
      "metadata": {
        "id": "jTVwKGQK4G6W",
        "colab_type": "code",
        "outputId": "61feb7c5-c72f-41d8-fbcd-bb2a27b151e9",
        "colab": {
          "base_uri": "https://localhost:8080/",
          "height": 221
        }
      },
      "source": [
        "k = 4\n",
        "num_val_samples = len(train_data) // k\n",
        "num_epochs = 500\n",
        "all_mae_histories = []\n",
        "\n",
        "for i in range(k):\n",
        "    print(f'Validation fold #{i+1}')\n",
        "    val_data = train_data[i*num_val_samples:(i+1)*num_val_samples]\n",
        "    val_targets = train_targets[i*num_val_samples:(i+1)*num_val_samples]\n",
        "    \n",
        "    partial_train_data = np.concatenate(\n",
        "                            [train_data[:i * num_val_samples],\n",
        "                             train_data[(i + 1) * num_val_samples:]], axis=0)\n",
        "    partial_train_targets = np.concatenate(\n",
        "                            [train_targets[:i * num_val_samples],\n",
        "                             train_targets[(i + 1) * num_val_samples:]], axis=0)\n",
        "    model = build_model()\n",
        "    history = model.fit(partial_train_data, partial_train_targets,\n",
        "                        validation_data=(val_data, val_targets),\n",
        "                        epochs=num_epochs, batch_size=1, verbose=0)\n",
        "    print(history.history.keys())\n",
        "    mae_history = history.history['val_mean_absolute_error']\n",
        "    all_scores.append(mae_history)\n",
        "    \n",
        "average_mae_history = [np.mean([x[i] for x in all_mae_histories])\n",
        "                       for i in range(num_epochs)]"
      ],
      "execution_count": 0,
      "outputs": [
        {
          "output_type": "stream",
          "text": [
            "Validation fold #1\n",
            "dict_keys(['val_loss', 'val_mean_absolute_error', 'loss', 'mean_absolute_error'])\n",
            "Validation fold #2\n",
            "dict_keys(['val_loss', 'val_mean_absolute_error', 'loss', 'mean_absolute_error'])\n",
            "Validation fold #3\n",
            "dict_keys(['val_loss', 'val_mean_absolute_error', 'loss', 'mean_absolute_error'])\n",
            "Validation fold #4\n",
            "dict_keys(['val_loss', 'val_mean_absolute_error', 'loss', 'mean_absolute_error'])\n"
          ],
          "name": "stdout"
        },
        {
          "output_type": "stream",
          "text": [
            "/usr/local/lib/python3.6/dist-packages/numpy/core/fromnumeric.py:3118: RuntimeWarning: Mean of empty slice.\n",
            "  out=out, **kwargs)\n",
            "/usr/local/lib/python3.6/dist-packages/numpy/core/_methods.py:85: RuntimeWarning: invalid value encountered in double_scalars\n",
            "  ret = ret.dtype.type(ret / rcount)\n"
          ],
          "name": "stderr"
        }
      ]
    },
    {
      "cell_type": "code",
      "metadata": {
        "id": "ywhVHuBACpxW",
        "colab_type": "code",
        "outputId": "d7e06c97-450f-4d6f-be71-36887631530c",
        "colab": {
          "base_uri": "https://localhost:8080/",
          "height": 85
        }
      },
      "source": [
        "average_mae_history = [np.mean([x[i] for x in all_mae_histories]) for i in range(num_epochs)]"
      ],
      "execution_count": 0,
      "outputs": [
        {
          "output_type": "stream",
          "text": [
            "/usr/local/lib/python3.6/dist-packages/numpy/core/fromnumeric.py:3118: RuntimeWarning: Mean of empty slice.\n",
            "  out=out, **kwargs)\n",
            "/usr/local/lib/python3.6/dist-packages/numpy/core/_methods.py:85: RuntimeWarning: invalid value encountered in double_scalars\n",
            "  ret = ret.dtype.type(ret / rcount)\n"
          ],
          "name": "stderr"
        }
      ]
    },
    {
      "cell_type": "code",
      "metadata": {
        "id": "zzM81JciCsAB",
        "colab_type": "code",
        "outputId": "436408e1-aefd-45dd-dd3a-fabdf7001c77",
        "colab": {
          "base_uri": "https://localhost:8080/",
          "height": 283
        }
      },
      "source": [
        "import matplotlib.pyplot as plt\n",
        "\n",
        "\n",
        "plt.plot(range(1, len(average_mae_history) + 1), average_mae_history)\n",
        "plt.xlabel('Epochs')\n",
        "plt.ylabel('Validation MAE')\n",
        "plt.show()"
      ],
      "execution_count": 0,
      "outputs": [
        {
          "output_type": "display_data",
          "data": {
            "image/png": "[encoded data removed]",
            "text/plain": [
              "<Figure size 432x288 with 1 Axes>"
            ]
          },
          "metadata": {
            "tags": []
          }
        }
      ]
    }
  ]
}