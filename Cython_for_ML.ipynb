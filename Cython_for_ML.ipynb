{
  "nbformat": 4,
  "nbformat_minor": 0,
  "metadata": {
    "colab": {
      "name": "Cython for ML.ipynb",
      "provenance": [],
      "collapsed_sections": [],
      "include_colab_link": true
    },
    "kernelspec": {
      "name": "python3",
      "display_name": "Python 3"
    }
  },
  "cells": [
    {
      "cell_type": "markdown",
      "metadata": {
        "id": "view-in-github",
        "colab_type": "text"
      },
      "source": [
        "<a href=\"https://colab.research.google.com/github/laneboi/playground/blob/master/Cython_for_ML.ipynb\" target=\"_parent\"><img src=\"https://colab.research.google.com/assets/colab-badge.svg\" alt=\"Open In Colab\"/></a>"
      ]
    },
    {
      "cell_type": "code",
      "metadata": {
        "id": "ilEwVRN3Y4EU",
        "colab_type": "code",
        "outputId": "e52c2c3b-b1c3-47fe-89ae-8ff8495b9d7f",
        "colab": {
          "base_uri": "https://localhost:8080/",
          "height": 323
        }
      },
      "source": [
        "# install dependencies\n",
        "!pip install cython\n",
        "!pip install spacy"
      ],
      "execution_count": 0,
      "outputs": [
        {
          "output_type": "stream",
          "text": [
            "Requirement already satisfied: cython in /usr/local/lib/python3.6/dist-packages (0.29.10)\n",
            "Requirement already satisfied: spacy in /usr/local/lib/python3.6/dist-packages (2.1.4)\n",
            "Requirement already satisfied: jsonschema<3.1.0,>=2.6.0 in /usr/local/lib/python3.6/dist-packages (from spacy) (2.6.0)\n",
            "Requirement already satisfied: thinc<7.1.0,>=7.0.2 in /usr/local/lib/python3.6/dist-packages (from spacy) (7.0.4)\n",
            "Requirement already satisfied: numpy>=1.15.0 in /usr/local/lib/python3.6/dist-packages (from spacy) (1.16.4)\n",
            "Requirement already satisfied: blis<0.3.0,>=0.2.2 in /usr/local/lib/python3.6/dist-packages (from spacy) (0.2.4)\n",
            "Requirement already satisfied: plac<1.0.0,>=0.9.6 in /usr/local/lib/python3.6/dist-packages (from spacy) (0.9.6)\n",
            "Requirement already satisfied: srsly<1.1.0,>=0.0.5 in /usr/local/lib/python3.6/dist-packages (from spacy) (0.0.7)\n",
            "Requirement already satisfied: requests<3.0.0,>=2.13.0 in /usr/local/lib/python3.6/dist-packages (from spacy) (2.21.0)\n",
            "Requirement already satisfied: cymem<2.1.0,>=2.0.2 in /usr/local/lib/python3.6/dist-packages (from spacy) (2.0.2)\n",
            "Requirement already satisfied: preshed<2.1.0,>=2.0.1 in /usr/local/lib/python3.6/dist-packages (from spacy) (2.0.1)\n",
            "Requirement already satisfied: murmurhash<1.1.0,>=0.28.0 in /usr/local/lib/python3.6/dist-packages (from spacy) (1.0.2)\n",
            "Requirement already satisfied: wasabi<1.1.0,>=0.2.0 in /usr/local/lib/python3.6/dist-packages (from spacy) (0.2.2)\n",
            "Requirement already satisfied: tqdm<5.0.0,>=4.10.0 in /usr/local/lib/python3.6/dist-packages (from thinc<7.1.0,>=7.0.2->spacy) (4.28.1)\n",
            "Requirement already satisfied: idna<2.9,>=2.5 in /usr/local/lib/python3.6/dist-packages (from requests<3.0.0,>=2.13.0->spacy) (2.8)\n",
            "Requirement already satisfied: urllib3<1.25,>=1.21.1 in /usr/local/lib/python3.6/dist-packages (from requests<3.0.0,>=2.13.0->spacy) (1.24.3)\n",
            "Requirement already satisfied: certifi>=2017.4.17 in /usr/local/lib/python3.6/dist-packages (from requests<3.0.0,>=2.13.0->spacy) (2019.6.16)\n",
            "Requirement already satisfied: chardet<3.1.0,>=3.0.2 in /usr/local/lib/python3.6/dist-packages (from requests<3.0.0,>=2.13.0->spacy) (3.0.4)\n"
          ],
          "name": "stdout"
        }
      ]
    },
    {
      "cell_type": "code",
      "metadata": {
        "id": "y1GAOpR4ZbpM",
        "colab_type": "code",
        "colab": {}
      },
      "source": [
        "# create rectangles\n",
        "\n",
        "from random import random\n",
        "\n",
        "\n",
        "class Rectangle(object):\n",
        "    def __init__(self, w, h):\n",
        "        self.w = w\n",
        "        self.h = h\n",
        "        \n",
        "    def area(self):\n",
        "        return self.w * self.h\n",
        "    \n",
        "    \n",
        "def check_rectangles_py(rectangles, threshold):\n",
        "    n_out = 0\n",
        "    for rectangle in rectangles:\n",
        "        if rectangle.area() > threshold:\n",
        "            n_out += 1\n",
        "    return n_out\n",
        "\n",
        "\n",
        "def main_rectangles_slow():\n",
        "    n_rectangles = int(10e6)\n",
        "    rectangles = [Rectangle(random(), random()) for _ in range(n_rectangles)]\n",
        "    n_out = check_rectangles_py(rectangles, threshold=0.25)\n",
        "    print(n_out)"
      ],
      "execution_count": 0,
      "outputs": []
    },
    {
      "cell_type": "code",
      "metadata": {
        "id": "UP6hFXReaOIf",
        "colab_type": "code",
        "outputId": "e019eb34-443d-47f8-ea07-0c850acf8b35",
        "colab": {
          "base_uri": "https://localhost:8080/",
          "height": 68
        }
      },
      "source": [
        "# time it\n",
        "\n",
        "%%time\n",
        "main_rectangles_slow()"
      ],
      "execution_count": 0,
      "outputs": [
        {
          "output_type": "stream",
          "text": [
            "4033290\n",
            "CPU times: user 13.6 s, sys: 1.27 s, total: 14.9 s\n",
            "Wall time: 14.9 s\n"
          ],
          "name": "stdout"
        }
      ]
    },
    {
      "cell_type": "code",
      "metadata": {
        "id": "6qGmKl6KcSC2",
        "colab_type": "code",
        "outputId": "11dd5f93-04e7-49b4-ea32-06aac10f515a",
        "colab": {
          "base_uri": "https://localhost:8080/",
          "height": 51
        }
      },
      "source": [
        "# load cython\n",
        "\n",
        "%load_ext Cython"
      ],
      "execution_count": 0,
      "outputs": [
        {
          "output_type": "stream",
          "text": [
            "The Cython extension is already loaded. To reload it, use:\n",
            "  %reload_ext Cython\n"
          ],
          "name": "stdout"
        }
      ]
    },
    {
      "cell_type": "code",
      "metadata": {
        "id": "XYboU7MJca7k",
        "colab_type": "code",
        "colab": {}
      },
      "source": [
        "# faster cython implementation\n",
        "\n",
        "%%cython\n",
        "from cymem.cymem cimport Pool\n",
        "from random import random\n",
        "\n",
        "\n",
        "cdef struct Rectangle:\n",
        "    float w\n",
        "    float h\n",
        "    \n",
        "\n",
        "cdef int check_rectangles_cy(Rectangle* rectangles, int n_rectangles, float threshold):\n",
        "    cdef int n_out = 0\n",
        "    \n",
        "    for rectangle in rectangles[:n_rectangles]:\n",
        "        if rectangle.w * rectangle.h > threshold:\n",
        "            n_out += 1\n",
        "    return n_out\n",
        "\n",
        "\n",
        "def main_rectangles_cy():\n",
        "    cdef int n_rectangles = 1000000\n",
        "    cdef float threshold = 0.25\n",
        "    \n",
        "    cdef Pool mem = Pool()\n",
        "    cdef Rectangle* rectangles = <Rectangle*>mem.alloc(n_rectangles, sizeof(Rectangle))\n",
        "    \n",
        "    for i in range(n_rectangles):\n",
        "        rectangles[i].w = random()\n",
        "        rectangles[i].h = random()\n",
        "    \n",
        "    n_out = check_rectangles_cy(rectangles, n_rectangles, threshold)\n",
        "    print(n_out)"
      ],
      "execution_count": 0,
      "outputs": []
    },
    {
      "cell_type": "code",
      "metadata": {
        "id": "TjqDjHUrgXFm",
        "colab_type": "code",
        "outputId": "e761ce7a-617e-44f3-cc83-50160c16c402",
        "colab": {
          "base_uri": "https://localhost:8080/",
          "height": 68
        }
      },
      "source": [
        "%%time\n",
        "main_rectangles_cy()"
      ],
      "execution_count": 0,
      "outputs": [
        {
          "output_type": "stream",
          "text": [
            "403063\n",
            "CPU times: user 49 ms, sys: 992 µs, total: 50 ms\n",
            "Wall time: 49.7 ms\n"
          ],
          "name": "stdout"
        }
      ]
    },
    {
      "cell_type": "code",
      "metadata": {
        "id": "f7zvRWwGiP9R",
        "colab_type": "code",
        "outputId": "c9b22a0b-23df-4c87-d246-680fdfaf228d",
        "colab": {
          "base_uri": "https://localhost:8080/",
          "height": 119
        }
      },
      "source": [
        "# install spacy\n",
        "import spacy.cli\n",
        "\n",
        "\n",
        "spacy.cli.download('en')\n",
        "nlp = spacy.load('en')\n",
        "\n",
        "multi_sentence = 'Sipping on straight chlorine, let the vibe slide over me. This beat is a chemical. Beat is a chemical.' \\\n",
        "                 'When I leave, don\\'t save my seed. I\\'ll be back when it\\'s all complete. The moment is magical. Moment is magical.' \\\n",
        "                 'Fall out of formation. Venom on my tongue, depending this time. Poisonous vibration helps my body run.' \\\n",
        "                 'I\\'m running for my life, running for my life.'\n",
        "\n",
        "parsed_data = nlp(multi_sentence)"
      ],
      "execution_count": 0,
      "outputs": [
        {
          "output_type": "stream",
          "text": [
            "\u001b[38;5;2m✔ Download and installation successful\u001b[0m\n",
            "You can now load the model via spacy.load('en_core_web_sm')\n",
            "\u001b[38;5;2m✔ Linking successful\u001b[0m\n",
            "/usr/local/lib/python3.6/dist-packages/en_core_web_sm -->\n",
            "/usr/local/lib/python3.6/dist-packages/spacy/data/en\n",
            "You can now load the model via spacy.load('en')\n"
          ],
          "name": "stdout"
        }
      ]
    },
    {
      "cell_type": "code",
      "metadata": {
        "id": "i4atg9TflZIB",
        "colab_type": "code",
        "outputId": "77187797-cd37-4671-aeff-b81d2d9902f2",
        "colab": {
          "base_uri": "https://localhost:8080/",
          "height": 221
        }
      },
      "source": [
        "# POS tagging\n",
        "\n",
        "for span in parsed_data.sents:\n",
        "    sent = [parsed_data[i] for i in range(span.start, span.end)]\n",
        "    break\n",
        "    \n",
        "for token in sent:\n",
        "    print(token.orth_, token.pos_)"
      ],
      "execution_count": 0,
      "outputs": [
        {
          "output_type": "stream",
          "text": [
            "Sipping VERB\n",
            "on ADP\n",
            "straight ADJ\n",
            "chlorine NOUN\n",
            ", PUNCT\n",
            "let VERB\n",
            "the DET\n",
            "vibe NOUN\n",
            "slide VERB\n",
            "over ADP\n",
            "me PRON\n",
            ". PUNCT\n"
          ],
          "name": "stdout"
        }
      ]
    },
    {
      "cell_type": "code",
      "metadata": {
        "id": "CnhAt7urmTD2",
        "colab_type": "code",
        "outputId": "c6b38712-9838-41d9-bffc-4a00d181e30e",
        "colab": {
          "base_uri": "https://localhost:8080/",
          "height": 408
        }
      },
      "source": [
        "# dependency tagging\n",
        "\n",
        "example = \"there's an infestation in my mind's imaginagion, \" \\\n",
        "          \"I hope they choke, 'cause I'm smoking them out the basement\"\n",
        "\n",
        "parsed_ex = nlp(example)\n",
        "\n",
        "for token in parsed_ex:\n",
        "    print(f'{token.orth_}\\t\\t{token.dep_}\\t\\t{token.head.orth_}')"
      ],
      "execution_count": 0,
      "outputs": [
        {
          "output_type": "stream",
          "text": [
            "there\t\texpl\t\t's\n",
            "'s\t\tccomp\t\thope\n",
            "an\t\tdet\t\tinfestation\n",
            "infestation\t\tattr\t\t's\n",
            "in\t\tprep\t\tinfestation\n",
            "my\t\tposs\t\tmind\n",
            "mind\t\tposs\t\timaginagion\n",
            "'s\t\tcase\t\tmind\n",
            "imaginagion\t\tpobj\t\tin\n",
            ",\t\tpunct\t\thope\n",
            "I\t\tnsubj\t\thope\n",
            "hope\t\tROOT\t\thope\n",
            "they\t\tnsubj\t\tchoke\n",
            "choke\t\tccomp\t\thope\n",
            ",\t\tpunct\t\thope\n",
            "'cause\t\tmark\t\tsmoking\n",
            "I\t\tnsubj\t\tsmoking\n",
            "'m\t\taux\t\tsmoking\n",
            "smoking\t\tadvcl\t\thope\n",
            "them\t\tdobj\t\tsmoking\n",
            "out\t\tprt\t\tsmoking\n",
            "the\t\tdet\t\tbasement\n",
            "basement\t\tdobj\t\tsmoking\n"
          ],
          "name": "stdout"
        }
      ]
    }
  ]
}