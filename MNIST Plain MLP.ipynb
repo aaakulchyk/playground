{
 "cells": [
  {
   "cell_type": "code",
   "execution_count": 2,
   "metadata": {},
   "outputs": [],
   "source": [
    "import numpy as np; np.random.seed(21)\n",
    "import tensorflow as tf\n",
    "keras = tf.keras\n",
    "import matplotlib as mpl\n",
    "import matplotlib.pyplot as plt\n",
    "%matplotlib inline\n",
    "import seaborn as sns; sns.set()\n",
    "import warnings; warnings.filterwarnings('ignore')"
   ]
  },
  {
   "cell_type": "markdown",
   "metadata": {},
   "source": [
    "# Data Exploration"
   ]
  },
  {
   "cell_type": "code",
   "execution_count": 4,
   "metadata": {},
   "outputs": [
    {
     "data": {
      "image/png": "[encoded data removed]",
      "text/plain": [
       "<Figure size 432x288 with 1 Axes>"
      ]
     },
     "metadata": {},
     "output_type": "display_data"
    }
   ],
   "source": [
    "mnist = keras.datasets.mnist\n",
    "\n",
    "# Load data\n",
    "(X_train, y_train), (X_test, y_test) = mnist.load_data()\n",
    "assert X_train.shape[1:] == X_test.shape[1:], \\\n",
    "            f\"Shapes mismatch: {X_train.shape} != {X_train.shape}\"\n",
    "X_train, X_test = X_train / 255., X_test / 255.\n",
    "\n",
    "IMG_SIZE = (28, 28)\n",
    "\n",
    "# Plot random digit\n",
    "def plot_digit(digit, label):\n",
    "    plt.figure()\n",
    "    if digit.shape != IMG_SIZE:\n",
    "        digit = digit.reshape(IMG_SIZE)\n",
    "    plt.imshow(digit, cmap=mpl.cm.gray)\n",
    "    plt.grid(False)\n",
    "    plt.title(f\"Instance of '{label}' class\")\n",
    "    \n",
    "\n",
    "rnd_train_idx = np.random.randint(X_train.shape[0])\n",
    "rnd_digit, rnd_class = X_train[rnd_train_idx], y_train[rnd_train_idx]\n",
    "\n",
    "plot_digit(rnd_digit, rnd_class)"
   ]
  },
  {
   "cell_type": "markdown",
   "metadata": {},
   "source": [
    "# Model Building"
   ]
  },
  {
   "cell_type": "code",
   "execution_count": 9,
   "metadata": {},
   "outputs": [
    {
     "name": "stdout",
     "output_type": "stream",
     "text": [
      "Train on 48000 samples, validate on 12000 samples\n",
      "Epoch 1/50\n",
      "48000/48000 [==============================] - 6s 122us/sample - loss: 0.2535 - accuracy: 0.9246 - val_loss: 0.1271 - val_accuracy: 0.9605\n",
      "Epoch 2/50\n",
      "48000/48000 [==============================] - 6s 122us/sample - loss: 0.1014 - accuracy: 0.9696 - val_loss: 0.0975 - val_accuracy: 0.9711\n",
      "Epoch 3/50\n",
      "48000/48000 [==============================] - 6s 115us/sample - loss: 0.0650 - accuracy: 0.9803 - val_loss: 0.0885 - val_accuracy: 0.9730\n",
      "Epoch 4/50\n",
      "48000/48000 [==============================] - 6s 116us/sample - loss: 0.0440 - accuracy: 0.9865 - val_loss: 0.0910 - val_accuracy: 0.9723\n",
      "Epoch 5/50\n",
      "48000/48000 [==============================] - 6s 120us/sample - loss: 0.0297 - accuracy: 0.9915 - val_loss: 0.0819 - val_accuracy: 0.9772\n",
      "Epoch 6/50\n",
      "48000/48000 [==============================] - 6s 132us/sample - loss: 0.0201 - accuracy: 0.9942 - val_loss: 0.0793 - val_accuracy: 0.9778\n",
      "Epoch 7/50\n",
      "48000/48000 [==============================] - 6s 122us/sample - loss: 0.0127 - accuracy: 0.9968 - val_loss: 0.0796 - val_accuracy: 0.9783\n",
      "Epoch 8/50\n",
      "48000/48000 [==============================] - 6s 122us/sample - loss: 0.0082 - accuracy: 0.9983 - val_loss: 0.0769 - val_accuracy: 0.9799\n",
      "Epoch 9/50\n",
      "48000/48000 [==============================] - 6s 116us/sample - loss: 0.0051 - accuracy: 0.9993 - val_loss: 0.0806 - val_accuracy: 0.9795\n",
      "Epoch 10/50\n",
      "48000/48000 [==============================] - 6s 116us/sample - loss: 0.0035 - accuracy: 0.9996 - val_loss: 0.0795 - val_accuracy: 0.9808\n",
      "Epoch 11/50\n",
      "48000/48000 [==============================] - 6s 116us/sample - loss: 0.0025 - accuracy: 0.9998 - val_loss: 0.0816 - val_accuracy: 0.9795\n",
      "Epoch 12/50\n",
      "48000/48000 [==============================] - 6s 120us/sample - loss: 0.0019 - accuracy: 0.9999 - val_loss: 0.0821 - val_accuracy: 0.9813\n",
      "Epoch 13/50\n",
      "48000/48000 [==============================] - 6s 120us/sample - loss: 0.0016 - accuracy: 1.0000 - val_loss: 0.0837 - val_accuracy: 0.9812\n",
      "Epoch 14/50\n",
      "48000/48000 [==============================] - 6s 117us/sample - loss: 0.0013 - accuracy: 1.0000 - val_loss: 0.0837 - val_accuracy: 0.9812\n",
      "Epoch 15/50\n",
      "48000/48000 [==============================] - 6s 120us/sample - loss: 0.0012 - accuracy: 1.0000 - val_loss: 0.0851 - val_accuracy: 0.9810\n",
      "Epoch 16/50\n",
      "48000/48000 [==============================] - 6s 120us/sample - loss: 0.0011 - accuracy: 1.0000 - val_loss: 0.0855 - val_accuracy: 0.9815\n",
      "Epoch 17/50\n",
      "48000/48000 [==============================] - 6s 118us/sample - loss: 9.6468e-04 - accuracy: 1.0000 - val_loss: 0.0861 - val_accuracy: 0.9809\n",
      "Epoch 18/50\n",
      "48000/48000 [==============================] - 6s 124us/sample - loss: 9.0168e-04 - accuracy: 1.0000 - val_loss: 0.0865 - val_accuracy: 0.9811\n"
     ]
    }
   ],
   "source": [
    "import functools\n",
    "\n",
    "\n",
    "ReLU = functools.partial(keras.layers.Dense, activation='relu', kernel_initializer='he_normal')\n",
    "\n",
    "model = keras.models.Sequential([\n",
    "    keras.layers.Flatten(input_shape=IMG_SIZE),\n",
    "    ReLU(300),\n",
    "    ReLU(300),\n",
    "    ReLU(100),\n",
    "    keras.layers.Dense(10, activation='softmax')\n",
    "])\n",
    "\n",
    "optimizer = keras.optimizers.SGD(lr=0.01, momentum=0.9, nesterov=True, decay=1e-4)\n",
    "\n",
    "model.compile(optimizer=optimizer,\n",
    "              loss='sparse_categorical_crossentropy',\n",
    "              metrics=['accuracy'])\n",
    "\n",
    "SAVE_MODEL_FILEPATH = 'mnist__plain_relu_mlp__best.h5'\n",
    "\n",
    "history = model.fit(X_train, y_train, epochs=50,\n",
    "                    batch_size=32, validation_split=0.2,\n",
    "                    callbacks=[\n",
    "                        keras.callbacks.EarlyStopping(patience=10),\n",
    "                        keras.callbacks.ModelCheckpoint(SAVE_MODEL_FILEPATH, save_best_only=True),\n",
    "                    ])"
   ]
  },
  {
   "cell_type": "markdown",
   "metadata": {},
   "source": [
    "# Conclusion"
   ]
  },
  {
   "cell_type": "code",
   "execution_count": 10,
   "metadata": {
    "scrolled": true
   },
   "outputs": [
    {
     "name": "stdout",
     "output_type": "stream",
     "text": [
      "Test loss: 0.06642677093962047\n",
      "Test accuracy: 0.9812999963760376\n"
     ]
    }
   ],
   "source": [
    "best_model = keras.models.load_model(SAVE_MODEL_FILEPATH)\n",
    "test_loss, test_accuracy = best_model.evaluate(X_test, y_test, verbose=0)\n",
    "print(f\"Test loss: {test_loss}\\nTest accuracy: {test_accuracy}\")"
   ]
  },
  {
   "cell_type": "markdown",
   "metadata": {},
   "source": [
    "A simple neural network was trained on MNIST dataset. This is an example of classification task, using supervised methods. During training the model was prevented from overfitting the training data using early stopping. The final model has the following architecture:"
   ]
  },
  {
   "cell_type": "code",
   "execution_count": 11,
   "metadata": {},
   "outputs": [
    {
     "name": "stdout",
     "output_type": "stream",
     "text": [
      "Model: \"sequential_2\"\n",
      "_________________________________________________________________\n",
      "Layer (type)                 Output Shape              Param #   \n",
      "=================================================================\n",
      "flatten_2 (Flatten)          (None, 784)               0         \n",
      "_________________________________________________________________\n",
      "dense_8 (Dense)              (None, 300)               235500    \n",
      "_________________________________________________________________\n",
      "dense_9 (Dense)              (None, 300)               90300     \n",
      "_________________________________________________________________\n",
      "dense_10 (Dense)             (None, 100)               30100     \n",
      "_________________________________________________________________\n",
      "dense_11 (Dense)             (None, 10)                1010      \n",
      "=================================================================\n",
      "Total params: 356,910\n",
      "Trainable params: 356,910\n",
      "Non-trainable params: 0\n",
      "_________________________________________________________________\n"
     ]
    }
   ],
   "source": [
    "best_model.summary()"
   ]
  },
  {
   "cell_type": "markdown",
   "metadata": {},
   "source": [
    "Although this network is fairly simple and relatively small (only `356910` trainable parameters), it was able to reach quickly global minimum (`test_loss=0.0664`) and demonstrate high performance (`test_accuracy=0.9813`), because it was trained using Nesterov Accelerated Gradient and Performance Scheduling techniques. Another factor for such quick convergence is that each layer's weights were initialized with He normal initialization (`mean=0, variance=2/fan_in`), which perfectly suits for using with the ReLU layers and helps alleviate the vanishing gradient problem.\n",
    "\n",
    "Further performance improvements (considering use of optimization and regularization techniques only, and ignoring fancier DNN architectures) might be achieved through experimenting with activation functions, such as different variants of ReLU or ELU."
   ]
  }
 ],
 "metadata": {
  "kernelspec": {
   "display_name": "Python 3",
   "language": "python",
   "name": "python3"
  },
  "language_info": {
   "codemirror_mode": {
    "name": "ipython",
    "version": 3
   },
   "file_extension": ".py",
   "mimetype": "text/x-python",
   "name": "python",
   "nbconvert_exporter": "python",
   "pygments_lexer": "ipython3",
   "version": "3.7.3"
  }
 },
 "nbformat": 4,
 "nbformat_minor": 4
}
