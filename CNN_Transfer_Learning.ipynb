{
  "nbformat": 4,
  "nbformat_minor": 0,
  "metadata": {
    "colab": {
      "name": "CNN Transfer Learning.ipynb",
      "provenance": [],
      "include_colab_link": true
    },
    "kernelspec": {
      "name": "python3",
      "display_name": "Python 3"
    }
  },
  "cells": [
    {
      "cell_type": "markdown",
      "metadata": {
        "id": "view-in-github",
        "colab_type": "text"
      },
      "source": [
        "<a href=\"https://colab.research.google.com/github/laneboi/playground/blob/master/CNN_Transfer_Learning.ipynb\" target=\"_parent\"><img src=\"https://colab.research.google.com/assets/colab-badge.svg\" alt=\"Open In Colab\"/></a>"
      ]
    },
    {
      "cell_type": "code",
      "metadata": {
        "id": "9ECHc1W6zAS4",
        "colab_type": "code",
        "outputId": "a5003609-f435-4765-9064-847ebcb3674d",
        "colab": {
          "base_uri": "https://localhost:8080/",
          "height": 161
        }
      },
      "source": [
        "import numpy as np\n",
        "import tensorflow as tf\n",
        "keras = tf.keras\n",
        "import tensorflow_datasets as tfds; tfds.disable_progress_bar()\n",
        "import matplotlib.pyplot as plt\n",
        "%matplotlib inline\n",
        "import warnings; warnings.filterwarnings('ignore')"
      ],
      "execution_count": 0,
      "outputs": [
        {
          "output_type": "stream",
          "text": [
            "WARNING:tensorflow:\n",
            "The TensorFlow contrib module will not be included in TensorFlow 2.0.\n",
            "For more information, please see:\n",
            "  * https://github.com/tensorflow/community/blob/master/rfcs/20180907-contrib-sunset.md\n",
            "  * https://github.com/tensorflow/addons\n",
            "  * https://github.com/tensorflow/io (for I/O related ops)\n",
            "If you depend on functionality not listed there, please file an issue.\n",
            "\n"
          ],
          "name": "stdout"
        }
      ]
    },
    {
      "cell_type": "code",
      "metadata": {
        "id": "CVnBLFGTzq_z",
        "colab_type": "code",
        "outputId": "c0f3457b-ce34-4d68-9bfe-2b5f6a91ccfe",
        "colab": {
          "base_uri": "https://localhost:8080/",
          "height": 71
        }
      },
      "source": [
        "DATASET_NAME = 'food101'\n",
        "IMAGE_SHAPE = (160, 160, 3)\n",
        "IMAGE_SIZE = IMAGE_SHAPE[:2]\n",
        "\n",
        "SPLIT_WEIGHTS = (8, 1, 1)\n",
        "train_split, val_split, test_split = tfds.Split.TRAIN.subsplit(weighted=SPLIT_WEIGHTS)\n",
        "\n",
        "(raw_train, raw_val, raw_test), metadata = tfds.load(DATASET_NAME,\n",
        "                                                     as_supervised=True,\n",
        "                                                     with_info=True,\n",
        "                                                     shuffle_files=True,\n",
        "                                                     split=['train[:80%]',\n",
        "                                                            'train[80%:90%]',\n",
        "                                                            'train[90%:]'])\n",
        "\n",
        "for raw in raw_train, raw_val, raw_test:\n",
        "    print(raw)"
      ],
      "execution_count": 0,
      "outputs": [
        {
          "output_type": "stream",
          "text": [
            "<DatasetV1Adapter shapes: ((?, ?, 3), ()), types: (tf.uint8, tf.int64)>\n",
            "<DatasetV1Adapter shapes: ((?, ?, 3), ()), types: (tf.uint8, tf.int64)>\n",
            "<DatasetV1Adapter shapes: ((?, ?, 3), ()), types: (tf.uint8, tf.int64)>\n"
          ],
          "name": "stdout"
        }
      ]
    },
    {
      "cell_type": "code",
      "metadata": {
        "id": "QUrIIQE0_0Zs",
        "colab_type": "code",
        "outputId": "2788b673-102a-4520-fee9-1d1bf1ecca1a",
        "colab": {
          "base_uri": "https://localhost:8080/",
          "height": 35
        }
      },
      "source": [
        "def"
      ],
      "execution_count": 0,
      "outputs": [
        {
          "output_type": "stream",
          "text": [
            "<DatasetV1Adapter shapes: ((?, ?, ?, 3), (?,)), types: (tf.uint8, tf.int64)>\n"
          ],
          "name": "stdout"
        }
      ]
    }
  ]
}